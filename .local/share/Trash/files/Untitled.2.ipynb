{
 "cells": [
  {
   "cell_type": "code",
   "execution_count": 1,
   "id": "92208159",
   "metadata": {},
   "outputs": [
    {
     "name": "stdout",
     "output_type": "stream",
     "text": [
      "5\n",
      "15\n"
     ]
    }
   ],
   "source": [
    "x = min(5,10,15)\n",
    "y = max(5,10,15)\n",
    "print(x)\n",
    "print(y)"
   ]
  },
  {
   "cell_type": "code",
   "execution_count": null,
   "id": "ed9e3987",
   "metadata": {},
   "outputs": [],
   "source": [
    "x = abs(-7.25)\n",
    "print(x)"
   ]
  },
  {
   "cell_type": "code",
   "execution_count": null,
   "id": "073e044e",
   "metadata": {},
   "outputs": [],
   "source": [
    "x = pow(5,3)\n",
    "print(x)"
   ]
  },
  {
   "cell_type": "code",
   "execution_count": null,
   "id": "e000db21",
   "metadata": {},
   "outputs": [],
   "source": [
    "import math\n",
    "\n",
    "x = math.sqrt(10)\n",
    "print(x)"
   ]
  },
  {
   "cell_type": "code",
   "execution_count": null,
   "id": "09623715",
   "metadata": {},
   "outputs": [],
   "source": [
    "import math\n",
    "x = math.ceil(3.5)\n",
    "y = math.floor(7.89)\n",
    "print(x)\n",
    "print(y)"
   ]
  },
  {
   "cell_type": "code",
   "execution_count": null,
   "id": "ab3fbccb",
   "metadata": {},
   "outputs": [],
   "source": [
    "import json\n",
    "x = '{\"name\":\"jane\",\"age\": 30 ,\"city\": \"new york\"}'\n",
    "y = json.loads(x)\n",
    "print(y[\"city\"])"
   ]
  },
  {
   "cell_type": "code",
   "execution_count": null,
   "id": "e464f696",
   "metadata": {},
   "outputs": [],
   "source": [
    "import json\n",
    "x = {\n",
    "    \"name\": \"John\",\n",
    "    \"age\" : 30,\n",
    "    \"city\" : \"New York\"\n",
    "}\n",
    "y =json.dumps(x)\n",
    "print(y)"
   ]
  },
  {
   "cell_type": "code",
   "execution_count": 6,
   "id": "017f056b",
   "metadata": {},
   "outputs": [
    {
     "name": "stdout",
     "output_type": "stream",
     "text": [
      "{\n",
      "     \"name\":\"John\",\n",
      "     \"age\":30,\n",
      "     \"married\":true,\n",
      "     \"divorced\":false,\n",
      "     \"children\":[\n",
      "          \"Ann\",\n",
      "          \"Billy\"\n",
      "     ],\n",
      "     \"pets\":null,\n",
      "     \"cars\":[\n",
      "          {\n",
      "               \"model\":\"BMW 230\",\n",
      "               \"mpg\":27.5\n",
      "          },\n",
      "          {\n",
      "               \"model\":\"Ford Edge\",\n",
      "               \"mpg\":24.1\n",
      "          }\n",
      "     ]\n",
      "}\n"
     ]
    }
   ],
   "source": [
    "import json\n",
    "\n",
    "x = {\n",
    "  \"name\": \"John\",\n",
    "  \"age\": 30,\n",
    "  \"married\": True,\n",
    "  \"divorced\": False,\n",
    "  \"children\": (\"Ann\",\"Billy\"),\n",
    "  \"pets\": None,\n",
    "  \"cars\": [\n",
    "    {\"model\": \"BMW 230\", \"mpg\": 27.5},\n",
    "    {\"model\": \"Ford Edge\", \"mpg\": 24.1}\n",
    "  ]\n",
    "}\n",
    "\n",
    "print(json.dumps(x, indent=5, separators=(\",\",\":\")))"
   ]
  },
  {
   "cell_type": "code",
   "execution_count": 2,
   "id": "2a8ea4a6",
   "metadata": {},
   "outputs": [
    {
     "name": "stdout",
     "output_type": "stream",
     "text": [
      "['ai', 'ai']\n",
      "Yes, there is a match\n"
     ]
    }
   ],
   "source": [
    "import re\n",
    "txt = \"The rain in Spain\"\n",
    "x = re.findall(\"ai\",txt)\n",
    "print(x)\n",
    "if (x):\n",
    "    print(\"Yes, there is a match\")\n",
    "else:\n",
    "    print(\"No match\")"
   ]
  },
  {
   "cell_type": "code",
   "execution_count": 3,
   "id": "1c6af9f7",
   "metadata": {},
   "outputs": [
    {
     "name": "stdout",
     "output_type": "stream",
     "text": [
      "Hello World\n"
     ]
    }
   ],
   "source": [
    "import camelcase\n",
    "c = camelcase.CamelCase()\n",
    "txt = \"hello world\"\n",
    "print(c.hump(txt))"
   ]
  }
 ],
 "metadata": {
  "kernelspec": {
   "display_name": "Python 3 (ipykernel)",
   "language": "python",
   "name": "python3"
  },
  "language_info": {
   "codemirror_mode": {
    "name": "ipython",
    "version": 3
   },
   "file_extension": ".py",
   "mimetype": "text/x-python",
   "name": "python",
   "nbconvert_exporter": "python",
   "pygments_lexer": "ipython3",
   "version": "3.9.2"
  }
 },
 "nbformat": 4,
 "nbformat_minor": 5
}
